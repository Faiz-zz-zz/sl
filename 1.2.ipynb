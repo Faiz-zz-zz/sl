{
 "cells": [
  {
   "cell_type": "code",
   "execution_count": 2,
   "metadata": {
    "collapsed": true
   },
   "outputs": [],
   "source": [
    "%matplotlib inline\n",
    "\n",
    "import matplotlib\n",
    "import numpy as np\n",
    "import matplotlib.pyplot as plt\n",
    "import scipy.io as sio\n",
    "import json\n",
    "import pandas as pd"
   ]
  },
  {
   "cell_type": "code",
   "execution_count": 3,
   "metadata": {
    "collapsed": false
   },
   "outputs": [],
   "source": [
    "data = sio.loadmat(\"boston.mat\")"
   ]
  },
  {
   "cell_type": "code",
   "execution_count": 4,
   "metadata": {
    "collapsed": false
   },
   "outputs": [
    {
     "data": {
      "text/plain": [
       "array([[6.3200e-03, 1.8000e+01, 2.3100e+00, ..., 3.9690e+02, 4.9800e+00,\n",
       "        2.4000e+01],\n",
       "       [2.7310e-02, 0.0000e+00, 7.0700e+00, ..., 3.9690e+02, 9.1400e+00,\n",
       "        2.1600e+01],\n",
       "       [2.7290e-02, 0.0000e+00, 7.0700e+00, ..., 3.9283e+02, 4.0300e+00,\n",
       "        3.4700e+01],\n",
       "       ...,\n",
       "       [6.0760e-02, 0.0000e+00, 1.1930e+01, ..., 3.9690e+02, 5.6400e+00,\n",
       "        2.3900e+01],\n",
       "       [1.0959e-01, 0.0000e+00, 1.1930e+01, ..., 3.9345e+02, 6.4800e+00,\n",
       "        2.2000e+01],\n",
       "       [4.7410e-02, 0.0000e+00, 1.1930e+01, ..., 3.9690e+02, 7.8800e+00,\n",
       "        1.1900e+01]])"
      ]
     },
     "execution_count": 4,
     "metadata": {},
     "output_type": "execute_result"
    }
   ],
   "source": [
    "data[\"boston\"]"
   ]
  },
  {
   "cell_type": "code",
   "execution_count": 5,
   "metadata": {
    "collapsed": false
   },
   "outputs": [],
   "source": [
    "df = pd.DataFrame.from_records(data[\"boston\"], columns=[\"CRIM\", \"ZN\", \"INDUS\", \"CHAS\", \"NOX\", \"RM\", \"AGE\", \"DIS\", \"RAD\", \"TAX\", \"PTRATIO\", \"BLACK\", \"LSTAT\", \"MEDV\"])"
   ]
  },
  {
   "cell_type": "code",
   "execution_count": 29,
   "metadata": {
    "collapsed": false
   },
   "outputs": [],
   "source": [
    "from sklearn.model_selection import train_test_split\n",
    "train, test = train_test_split(df, test_size=1/3)"
   ]
  },
  {
   "cell_type": "code",
   "execution_count": 33,
   "metadata": {
    "collapsed": false
   },
   "outputs": [],
   "source": [
    "def calculate_mse(predicted, output):\n",
    "    total = 0\n",
    "    for y1, y2 in zip(predicted, output):\n",
    "        total += ((y1 - y2) ** 2)\n",
    "    return total / len(predicted)\n",
    "\n",
    "def naive_regression(train_set, test_set):\n",
    "    train_ones = np.ones((len(train_set), len(train_set)))\n",
    "    test_ones = np.ones((len(test_set), len(test_set)))\n",
    "    train_mse = calculate_mse(\n",
    "        np.linalg.lstsq(train_ones, train_set[\"MEDV\"])[0],\n",
    "        list(train_set[\"MEDV\"])\n",
    "    )\n",
    "    test_mse = calculate_mse(\n",
    "        np.linalg.lstsq(test_ones, test_set[\"MEDV\"])[0],\n",
    "        list(test_set[\"MEDV\"])\n",
    "    )\n",
    "    return train_mse, test_mse"
   ]
  },
  {
   "cell_type": "code",
   "execution_count": 34,
   "metadata": {
    "collapsed": false
   },
   "outputs": [
    {
     "name": "stderr",
     "output_type": "stream",
     "text": [
      "/Library/Frameworks/Python.framework/Versions/3.5/lib/python3.5/site-packages/ipykernel/__main__.py:11: FutureWarning: `rcond` parameter will change to the default of machine precision times ``max(M, N)`` where M and N are the input matrix dimensions.\n",
      "To use the future default and silence this warning we advise to pass `rcond=None`, to keep using the old, explicitly pass `rcond=-1`.\n",
      "/Library/Frameworks/Python.framework/Versions/3.5/lib/python3.5/site-packages/ipykernel/__main__.py:15: FutureWarning: `rcond` parameter will change to the default of machine precision times ``max(M, N)`` where M and N are the input matrix dimensions.\n",
      "To use the future default and silence this warning we advise to pass `rcond=None`, to keep using the old, explicitly pass `rcond=-1`.\n"
     ]
    },
    {
     "name": "stdout",
     "output_type": "stream",
     "text": [
      "3.809748792384099e+26 3.5368090666860514e+27\n"
     ]
    }
   ],
   "source": [
    "train_mse_ave, test_mse_ave = 0, 0\n",
    "for _ in range(20):\n",
    "    train, test = train_test_split(df, test_size=1/3)\n",
    "    train_mse, test_mse = naive_regression(train, test)\n",
    "    train_mse_ave += train_mse\n",
    "    test_mse_ave += test_mse\n",
    "print(train_mse_ave / 20, test_mse_ave /20)"
   ]
  },
  {
   "cell_type": "code",
   "execution_count": 35,
   "metadata": {
    "collapsed": true
   },
   "outputs": [],
   "source": [
    "# f = c is the average of all the output values so that mse is reduced"
   ]
  },
  {
   "cell_type": "code",
   "execution_count": 108,
   "metadata": {
    "collapsed": false
   },
   "outputs": [],
   "source": [
    "### single regression"
   ]
  },
  {
   "cell_type": "code",
   "execution_count": 96,
   "metadata": {
    "collapsed": false
   },
   "outputs": [],
   "source": [
    "from collections import defaultdict\n",
    "\n",
    "def get_prediction(weights, xs):\n",
    "    predicted = []\n",
    "    for x in xs:\n",
    "        predicted.append(x * weights[0] + weights[1])\n",
    "    return predicted\n",
    "\n",
    "def single_attr_regression():\n",
    "    train_mses = defaultdict(int)\n",
    "    test_mses = defaultdict(int)\n",
    "    for attr in df.columns[:-1]:\n",
    "        for _ in range(20):\n",
    "            train, test = train_test_split(df, test_size=1/3)\n",
    "            xs = train[attr]\n",
    "            ys = train[\"MEDV\"]\n",
    "            feature_matrix = []\n",
    "            for attr_val in xs:\n",
    "                feature_matrix.append([attr_val, 1])\n",
    "            weight = np.linalg.lstsq(feature_matrix, ys)[0]\n",
    "            train_mses[attr] += calculate_mse(get_prediction(weight, xs), ys)\n",
    "            test_mses[attr] += calculate_mse(get_prediction(weight, test[attr]), test[\"MEDV\"])\n",
    "    for key in train_mses:\n",
    "        train_mses[key] /= 20\n",
    "        test_mses[key] /= 20\n",
    "    return train_mses, test_mses"
   ]
  },
  {
   "cell_type": "code",
   "execution_count": 97,
   "metadata": {
    "collapsed": false
   },
   "outputs": [
    {
     "name": "stderr",
     "output_type": "stream",
     "text": [
      "/Library/Frameworks/Python.framework/Versions/3.5/lib/python3.5/site-packages/ipykernel/__main__.py:20: FutureWarning: `rcond` parameter will change to the default of machine precision times ``max(M, N)`` where M and N are the input matrix dimensions.\n",
      "To use the future default and silence this warning we advise to pass `rcond=None`, to keep using the old, explicitly pass `rcond=-1`.\n"
     ]
    },
    {
     "data": {
      "text/plain": [
       "(defaultdict(int,\n",
       "             {'AGE': 73.88134430479434,\n",
       "              'BLACK': 73.68884487908194,\n",
       "              'CHAS': 81.16463035498536,\n",
       "              'CRIM': 71.13968241182597,\n",
       "              'DIS': 78.85716721087809,\n",
       "              'INDUS': 64.47064841447379,\n",
       "              'LSTAT': 38.44191281643897,\n",
       "              'NOX': 68.81917327442122,\n",
       "              'PTRATIO': 62.73194016874686,\n",
       "              'RAD': 72.34832512917372,\n",
       "              'RM': 43.78222803786089,\n",
       "              'TAX': 65.5366146679282,\n",
       "              'ZN': 73.11604863223906}),\n",
       " defaultdict(int,\n",
       "             {'AGE': 70.01600700106209,\n",
       "              'BLACK': 78.03805991786986,\n",
       "              'CHAS': 83.86330112802588,\n",
       "              'CRIM': 73.85021859717854,\n",
       "              'DIS': 80.20163857248215,\n",
       "              'INDUS': 65.39468687518753,\n",
       "              'LSTAT': 38.89767608243805,\n",
       "              'NOX': 69.78392360937791,\n",
       "              'PTRATIO': 62.89616046358227,\n",
       "              'RAD': 72.08181955662278,\n",
       "              'RM': 43.740061995511425,\n",
       "              'TAX': 67.04818858708646,\n",
       "              'ZN': 74.76428861359675}))"
      ]
     },
     "execution_count": 97,
     "metadata": {},
     "output_type": "execute_result"
    }
   ],
   "source": [
    "single_attr_regression()"
   ]
  },
  {
   "cell_type": "code",
   "execution_count": 145,
   "metadata": {
    "collapsed": false
   },
   "outputs": [
    {
     "name": "stderr",
     "output_type": "stream",
     "text": [
      "/Library/Frameworks/Python.framework/Versions/3.5/lib/python3.5/site-packages/ipykernel/__main__.py:18: FutureWarning: `rcond` parameter will change to the default of machine precision times ``max(M, N)`` where M and N are the input matrix dimensions.\n",
      "To use the future default and silence this warning we advise to pass `rcond=None`, to keep using the old, explicitly pass `rcond=-1`.\n"
     ]
    },
    {
     "data": {
      "text/plain": [
       "(1.0731778701751797, 1.1711125486816631)"
      ]
     },
     "execution_count": 145,
     "metadata": {},
     "output_type": "execute_result"
    }
   ],
   "source": [
    "def get_predicted_for_mult(weight, xs):\n",
    "    predicted = []\n",
    "    for _, x in xs.iterrows():\n",
    "        total = 0.0\n",
    "        x = x.tolist()\n",
    "        for w, x_ in zip(weight, x):\n",
    "            total += x_ * w\n",
    "        predicted.append(total)\n",
    "    return predicted\n",
    "\n",
    "def multi_param_linear_regression():\n",
    "    train_mse, test_mse = 0, 0\n",
    "    for _ in range(1):\n",
    "        train, test = train_test_split(df, test_size=1/3)\n",
    "        ys = train[\"MEDV\"]\n",
    "        xs = train.drop([\"MEDV\"], axis=1)\n",
    "        xs[\"bias\"] = np.ones(len(xs))\n",
    "        weight = np.linalg.lstsq(xs, ys)[0]\n",
    "        predicted = get_predicted_for_mult(weight, xs)\n",
    "        train_mse += calculate_mse(predicted, ys)\n",
    "        \n",
    "        # test the model again test set\n",
    "        ys = test[\"MEDV\"]\n",
    "        xs = test.drop([\"MEDV\"], axis=1)\n",
    "        xs[\"bias\"] = np.ones(len(xs))\n",
    "        predicted = get_predicted_for_mult(weight, xs)\n",
    "        test_mse += calculate_mse(predicted, ys)\n",
    "    return train_mse / 20, test_mse / 20\n",
    "multi_param_linear_regression()"
   ]
  },
  {
   "cell_type": "code",
   "execution_count": null,
   "metadata": {
    "collapsed": false
   },
   "outputs": [],
   "source": []
  },
  {
   "cell_type": "code",
   "execution_count": null,
   "metadata": {
    "collapsed": true
   },
   "outputs": [],
   "source": []
  }
 ],
 "metadata": {
  "kernelspec": {
   "display_name": "Python 3",
   "language": "python",
   "name": "python3"
  },
  "language_info": {
   "codemirror_mode": {
    "name": "ipython",
    "version": 3
   },
   "file_extension": ".py",
   "mimetype": "text/x-python",
   "name": "python",
   "nbconvert_exporter": "python",
   "pygments_lexer": "ipython3",
   "version": "3.5.1"
  }
 },
 "nbformat": 4,
 "nbformat_minor": 0
}
