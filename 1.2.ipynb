{
 "cells": [
  {
   "cell_type": "code",
   "execution_count": 1,
   "metadata": {
    "collapsed": true
   },
   "outputs": [],
   "source": [
    "%matplotlib inline\n",
    "\n",
    "import matplotlib\n",
    "import numpy as np\n",
    "import matplotlib.pyplot as plt\n",
    "import scipy.io as sio\n",
    "import json\n",
    "import pandas as pd"
   ]
  },
  {
   "cell_type": "code",
   "execution_count": 2,
   "metadata": {
    "collapsed": false
   },
   "outputs": [],
   "source": [
    "data = sio.loadmat(\"boston.mat\")"
   ]
  },
  {
   "cell_type": "code",
   "execution_count": 3,
   "metadata": {
    "collapsed": false
   },
   "outputs": [
    {
     "data": {
      "text/plain": [
       "array([[6.3200e-03, 1.8000e+01, 2.3100e+00, ..., 3.9690e+02, 4.9800e+00,\n",
       "        2.4000e+01],\n",
       "       [2.7310e-02, 0.0000e+00, 7.0700e+00, ..., 3.9690e+02, 9.1400e+00,\n",
       "        2.1600e+01],\n",
       "       [2.7290e-02, 0.0000e+00, 7.0700e+00, ..., 3.9283e+02, 4.0300e+00,\n",
       "        3.4700e+01],\n",
       "       ...,\n",
       "       [6.0760e-02, 0.0000e+00, 1.1930e+01, ..., 3.9690e+02, 5.6400e+00,\n",
       "        2.3900e+01],\n",
       "       [1.0959e-01, 0.0000e+00, 1.1930e+01, ..., 3.9345e+02, 6.4800e+00,\n",
       "        2.2000e+01],\n",
       "       [4.7410e-02, 0.0000e+00, 1.1930e+01, ..., 3.9690e+02, 7.8800e+00,\n",
       "        1.1900e+01]])"
      ]
     },
     "execution_count": 3,
     "metadata": {},
     "output_type": "execute_result"
    }
   ],
   "source": [
    "data[\"boston\"]"
   ]
  },
  {
   "cell_type": "code",
   "execution_count": 4,
   "metadata": {
    "collapsed": false
   },
   "outputs": [],
   "source": [
    "df = pd.DataFrame.from_records(data[\"boston\"], columns=[\"CRIM\", \"ZN\", \"INDUS\", \"CHAS\", \"NOX\", \"RM\", \"AGE\", \"DIS\", \"RAD\", \"TAX\", \"PTRATIO\", \"BLACK\", \"LSTAT\", \"MEDV\"])"
   ]
  },
  {
   "cell_type": "code",
   "execution_count": 5,
   "metadata": {
    "collapsed": false
   },
   "outputs": [],
   "source": [
    "from sklearn.model_selection import train_test_split\n",
    "train, test = train_test_split(df, test_size=1/3)"
   ]
  },
  {
   "cell_type": "code",
   "execution_count": 6,
   "metadata": {
    "collapsed": false
   },
   "outputs": [],
   "source": [
    "def calculate_mse(predicted, output):\n",
    "    total = 0\n",
    "    for y1, y2 in zip(predicted, output):\n",
    "        total += ((y1 - y2) ** 2)\n",
    "    return total / len(predicted)\n",
    "\n",
    "def naive_regression(train_set, test_set):\n",
    "    train_ones = np.ones((len(train_set), 1))\n",
    "    test_ones = np.ones((len(test_set), 1))\n",
    "    train_mse = calculate_mse(\n",
    "        np.linalg.lstsq(train_ones, train_set[\"MEDV\"])[0],\n",
    "        list(train_set[\"MEDV\"])\n",
    "    )\n",
    "    test_mse = calculate_mse(\n",
    "        np.linalg.lstsq(test_ones, test_set[\"MEDV\"])[0],\n",
    "        list(test_set[\"MEDV\"])\n",
    "    )\n",
    "    return train_mse, test_mse"
   ]
  },
  {
   "cell_type": "code",
   "execution_count": 7,
   "metadata": {
    "collapsed": false
   },
   "outputs": [
    {
     "name": "stdout",
     "output_type": "stream",
     "text": [
      "110.46653080946385 38.47840971954765\n"
     ]
    },
    {
     "name": "stderr",
     "output_type": "stream",
     "text": [
      "/Library/Frameworks/Python.framework/Versions/3.5/lib/python3.5/site-packages/ipykernel/__main__.py:11: FutureWarning: `rcond` parameter will change to the default of machine precision times ``max(M, N)`` where M and N are the input matrix dimensions.\n",
      "To use the future default and silence this warning we advise to pass `rcond=None`, to keep using the old, explicitly pass `rcond=-1`.\n",
      "/Library/Frameworks/Python.framework/Versions/3.5/lib/python3.5/site-packages/ipykernel/__main__.py:15: FutureWarning: `rcond` parameter will change to the default of machine precision times ``max(M, N)`` where M and N are the input matrix dimensions.\n",
      "To use the future default and silence this warning we advise to pass `rcond=None`, to keep using the old, explicitly pass `rcond=-1`.\n"
     ]
    }
   ],
   "source": [
    "train_mse_ave, test_mse_ave = 0, 0\n",
    "for _ in range(20):\n",
    "    train, test = train_test_split(df, test_size=1/3)\n",
    "    train_mse, test_mse = naive_regression(train, test)\n",
    "    train_mse_ave += train_mse\n",
    "    test_mse_ave += test_mse\n",
    "print(train_mse_ave / 20, test_mse_ave /20)"
   ]
  },
  {
   "cell_type": "code",
   "execution_count": 8,
   "metadata": {
    "collapsed": true
   },
   "outputs": [],
   "source": [
    "# f = c is the average of all the output values so that mse is reduced"
   ]
  },
  {
   "cell_type": "code",
   "execution_count": 9,
   "metadata": {
    "collapsed": false
   },
   "outputs": [],
   "source": [
    "### single regression"
   ]
  },
  {
   "cell_type": "code",
   "execution_count": 10,
   "metadata": {
    "collapsed": false
   },
   "outputs": [],
   "source": [
    "from collections import defaultdict\n",
    "\n",
    "def get_prediction(weights, xs):\n",
    "    predicted = []\n",
    "    for x in xs:\n",
    "        predicted.append(x * weights[0] + weights[1])\n",
    "    return predicted\n",
    "\n",
    "def single_attr_regression():\n",
    "    train_mses = defaultdict(int)\n",
    "    test_mses = defaultdict(int)\n",
    "    for attr in df.columns[:-1]:\n",
    "        for _ in range(20):\n",
    "            train, test = train_test_split(df, test_size=1/3)\n",
    "            xs = train[attr]\n",
    "            ys = train[\"MEDV\"]\n",
    "            feature_matrix = []\n",
    "            for attr_val in xs:\n",
    "                feature_matrix.append([attr_val, 1])\n",
    "            weight = np.linalg.lstsq(feature_matrix, ys)[0]\n",
    "            train_mses[attr] += calculate_mse(get_prediction(weight, xs), ys)\n",
    "            test_mses[attr] += calculate_mse(get_prediction(weight, test[attr]), test[\"MEDV\"])\n",
    "    for key in train_mses:\n",
    "        train_mses[key] /= 20\n",
    "        test_mses[key] /= 20\n",
    "    return train_mses, test_mses"
   ]
  },
  {
   "cell_type": "code",
   "execution_count": 11,
   "metadata": {
    "collapsed": false
   },
   "outputs": [
    {
     "name": "stderr",
     "output_type": "stream",
     "text": [
      "/Library/Frameworks/Python.framework/Versions/3.5/lib/python3.5/site-packages/ipykernel/__main__.py:20: FutureWarning: `rcond` parameter will change to the default of machine precision times ``max(M, N)`` where M and N are the input matrix dimensions.\n",
      "To use the future default and silence this warning we advise to pass `rcond=None`, to keep using the old, explicitly pass `rcond=-1`.\n"
     ]
    },
    {
     "data": {
      "text/plain": [
       "(defaultdict(int,\n",
       "             {'AGE': 71.91111430488353,\n",
       "              'BLACK': 73.74846652656892,\n",
       "              'CHAS': 81.64116122399186,\n",
       "              'CRIM': 71.54409992969465,\n",
       "              'DIS': 79.62783230762017,\n",
       "              'INDUS': 66.16873128657502,\n",
       "              'LSTAT': 38.14948284113473,\n",
       "              'NOX': 69.94375889401633,\n",
       "              'PTRATIO': 62.11772810321795,\n",
       "              'RAD': 73.5228855714225,\n",
       "              'RM': 43.04312795201643,\n",
       "              'TAX': 65.58209382396024,\n",
       "              'ZN': 73.61414900741902}),\n",
       " defaultdict(int,\n",
       "             {'AGE': 73.88893460936048,\n",
       "              'BLACK': 77.90223284962846,\n",
       "              'CHAS': 82.8788045909916,\n",
       "              'CRIM': 72.95410842821217,\n",
       "              'DIS': 78.6322019943693,\n",
       "              'INDUS': 62.187527839426615,\n",
       "              'LSTAT': 39.44433408614212,\n",
       "              'NOX': 67.44116818387712,\n",
       "              'PTRATIO': 64.04783024576713,\n",
       "              'RAD': 69.60247766915579,\n",
       "              'RM': 45.29600042079126,\n",
       "              'TAX': 66.94130637894509,\n",
       "              'ZN': 73.54060371318752}))"
      ]
     },
     "execution_count": 11,
     "metadata": {},
     "output_type": "execute_result"
    }
   ],
   "source": [
    "single_attr_regression()\n"
   ]
  },
  {
   "cell_type": "code",
   "execution_count": 12,
   "metadata": {
    "collapsed": false
   },
   "outputs": [
    {
     "name": "stderr",
     "output_type": "stream",
     "text": [
      "/Library/Frameworks/Python.framework/Versions/3.5/lib/python3.5/site-packages/ipykernel/__main__.py:18: FutureWarning: `rcond` parameter will change to the default of machine precision times ``max(M, N)`` where M and N are the input matrix dimensions.\n",
      "To use the future default and silence this warning we advise to pass `rcond=None`, to keep using the old, explicitly pass `rcond=-1`.\n"
     ]
    },
    {
     "data": {
      "text/plain": [
       "(21.11943099906709, 25.155269280832382)"
      ]
     },
     "execution_count": 12,
     "metadata": {},
     "output_type": "execute_result"
    }
   ],
   "source": [
    "def get_predicted_for_mult(weight, xs):\n",
    "    predicted = []\n",
    "    for _, x in xs.iterrows():\n",
    "        total = 0.0\n",
    "        x = x.tolist()\n",
    "        for w, x_ in zip(weight, x):\n",
    "            total += x_ * w\n",
    "        predicted.append(total)\n",
    "    return predicted\n",
    "\n",
    "def multi_param_linear_regression():\n",
    "    train_mse, test_mse = 0, 0\n",
    "    for _ in range(20):\n",
    "        train, test = train_test_split(df, test_size=1/3)\n",
    "        ys = train[\"MEDV\"]\n",
    "        xs = train.drop([\"MEDV\"], axis=1)\n",
    "        xs[\"bias\"] = np.ones(len(xs))\n",
    "        weight = np.linalg.lstsq(xs, ys)[0]\n",
    "        predicted = get_predicted_for_mult(weight, xs)\n",
    "        train_mse += calculate_mse(predicted, ys)\n",
    "        \n",
    "        # test the model again test set\n",
    "        ys = test[\"MEDV\"]\n",
    "        xs = test.drop([\"MEDV\"], axis=1)\n",
    "        xs[\"bias\"] = np.ones(len(xs))\n",
    "        predicted = get_predicted_for_mult(weight, xs)\n",
    "        test_mse += calculate_mse(predicted, ys)\n",
    "    return train_mse / 20, test_mse / 20\n",
    "multi_param_linear_regression()"
   ]
  },
  {
   "cell_type": "code",
   "execution_count": null,
   "metadata": {
    "collapsed": false
   },
   "outputs": [],
   "source": []
  },
  {
   "cell_type": "code",
   "execution_count": null,
   "metadata": {
    "collapsed": true
   },
   "outputs": [],
   "source": []
  }
 ],
 "metadata": {
  "kernelspec": {
   "display_name": "Python 3",
   "language": "python",
   "name": "python3"
  },
  "language_info": {
   "codemirror_mode": {
    "name": "ipython",
    "version": 3
   },
   "file_extension": ".py",
   "mimetype": "text/x-python",
   "name": "python",
   "nbconvert_exporter": "python",
   "pygments_lexer": "ipython3",
   "version": "3.5.1"
  }
 },
 "nbformat": 4,
 "nbformat_minor": 0
}
