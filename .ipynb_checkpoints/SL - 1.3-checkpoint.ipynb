{
 "cells": [
  {
   "cell_type": "code",
   "execution_count": null,
   "metadata": {
    "collapsed": true
   },
   "outputs": [],
   "source": [
    "import numpy as np\n",
    "from numpy import linalg as LA\n",
    "\n",
    "\n",
    "\n",
    "class KernelRidgeRegression(object):\n",
    "    \"\"\"docstring fo KernelRidgeRegression.\"\"\"\n",
    "\n",
    "    def __init__(self, sigma, gama, x, y):\n",
    "        self.sigma = sigma\n",
    "        self.gama = gama\n",
    "        self.x = x\n",
    "        self.y = y\n",
    "        self.K = self.applyGussianKernel()\n",
    "        self.alphas = self.calculateAlphas()\n",
    "        self.se = self.calculateSE()\n",
    "\n",
    "\n",
    "    def calculateGussianKernel(self, xi, xj):\n",
    "        dist = LA.norm(xi-xj)\n",
    "        k_xi_xj = np.exp(np.divide(-(dist**2), 2*(self.sigma**2)))\n",
    "        return k_xi_xj\n",
    "\n",
    "    # (XTX+λI)β=XTy\n",
    "    # https://www.kaggle.com/residentmario/ridge-regression-proof-and-implementation\n",
    "    def calculateSE(self):\n",
    "        se = np.subtract(self.y, self.K @ self.alphas)\n",
    "        se_trans = np.transpose(se)\n",
    "        leftmatrix = se_trans @ se\n",
    "        rightmatrix = self.gama * (np.transpose(self.alphas) @ self.K @ self.alphas)\n",
    "        return leftmatrix + rightmatrix\n",
    "\n",
    "\n",
    "    def calculateAlphas(self):\n",
    "        leftmat = np.linalg.inv(np.add(self.K, self.gama*np.identity(len(self.x))))\n",
    "        return leftmat @ self.y\n",
    "    \n",
    "    def calculateMSE(self):\n",
    "        data_size = len(self.x)\n",
    "        MSE = self.gama * np.transpose(self.alphas) @ self.K @ self.alphas\n",
    "        for i in range(data_size):\n",
    "            alphaj_kij = 0 \n",
    "            for j in range(data_size):\n",
    "                alphaj_kij += self.alphas[j] * self.K[i][j]\n",
    "            MSE += (alphaj_kij - self.y[i])**2\n",
    "\n",
    "        return MSE/data_size\n",
    "        \n",
    "\n",
    "    def applyGussianKernel(self):\n",
    "        k_value = [[0]*len(self.x) for _ in range(len(self.x))]\n",
    "        for i in range(len(self.x)):\n",
    "            for j in range(i, len(self.x)):\n",
    "                k_value[i][j] = self.calculateGussianKernel(self.x[i], self.x[j])\n",
    "        return np.array(k_value)\n",
    "\n",
    "\n",
    "\n",
    "for i in range(20):\n",
    "    MSE_training, MSE_test = findBestSigmaGamaAndCalcMSE()\n",
    "    print(\"training error: {}, test error: {}\".format(MSE_training, MSE_test))\n",
    "              \n",
    "\n",
    "        \n"
   ]
  },
  {
   "cell_type": "code",
   "execution_count": 177,
   "metadata": {
    "collapsed": true
   },
   "outputs": [],
   "source": [
    "def findBestSigmaGamaAndCalcMSE():\n",
    "    x, y, x_test, y_test = loadDataAndSplit()\n",
    "    training_folds = applyKFold(x, y)\n",
    "    gamas = np.array([2 ** i for i in list(range(-40, -25))])\n",
    "    sigmas =  np.array([2 ** (i/2) for i in list(range(14, 27))])\n",
    "    minSE = 999999999999\n",
    "    best_pair = []\n",
    "    cross_validation_pairs = []\n",
    "    for i in range(len(gamas)):\n",
    "        for j in range(len(sigmas)):\n",
    "            averageSE = 0\n",
    "            for X, Y in training_folds:\n",
    "                krr = KernelRidgeRegression(sigmas[j], gamas[i], X, Y)\n",
    "                averageSE += krr.se\n",
    "            averageSE = averageSE/len(training_folds)\n",
    "            cross_validation_pairs.append([averageSE, gamas[i], sigmas[j]])\n",
    "            if averageSE < minSE:\n",
    "                minSE = krr.se\n",
    "                best_pair = [sigmas[j], gamas[i]]\n",
    "    MSE_training = calcMSEforBestSigmaGama(best_pair, x, y)\n",
    "    MSE_test = calcMSEforBestSigmaGama(best_pair, x_test, y_test)\n",
    "    return MSE_training, MSE_test"
   ]
  },
  {
   "cell_type": "code",
   "execution_count": 178,
   "metadata": {
    "collapsed": true
   },
   "outputs": [],
   "source": [
    "def calcMSEforBestSigmaGama(best_pair, data_X, data_Y):\n",
    "    sigma, gama = best_pair\n",
    "    krr = KernelRidgeRegression(sigma, gama, data_X, data_Y)\n",
    "    return krr.calculateMSE()"
   ]
  },
  {
   "cell_type": "code",
   "execution_count": null,
   "metadata": {
    "collapsed": true
   },
   "outputs": [],
   "source": []
  },
  {
   "cell_type": "code",
   "execution_count": null,
   "metadata": {
    "collapsed": true
   },
   "outputs": [],
   "source": []
  },
  {
   "cell_type": "code",
   "execution_count": null,
   "metadata": {
    "collapsed": true
   },
   "outputs": [],
   "source": []
  },
  {
   "cell_type": "code",
   "execution_count": 92,
   "metadata": {
    "collapsed": true
   },
   "outputs": [],
   "source": [
    "from mpl_toolkits.mplot3d import Axes3D\n",
    "from matplotlib import cm\n",
    "\n",
    "# the input is a list of list of the format (averageSE over folds of validation, gama, sigma)\n",
    "def plot_cross_validation_error_sigma_gama(tuples):\n",
    "    cross_validation_errors, gamas, sigmas = zip(*tuples)\n",
    "    gamas, sigmas = list(gamas), list(sigmas)\n",
    "    cves = [a.tolist()[0][0] for a in cross_validation_errors]\n",
    "    return gamas, sigmas, cves\n"
   ]
  },
  {
   "cell_type": "code",
   "execution_count": null,
   "metadata": {
    "collapsed": true
   },
   "outputs": [],
   "source": [
    "def calculateMSE(self, X, Y):\n",
    "    data_size = len(data)\n",
    "    MSE = self.gama @ np.transpose(self.alphas) @ self.K @ self.alphas\n",
    "    for i in range(data_size):\n",
    "        alphaj_kij = 0 \n",
    "        for j in range(data_size):\n",
    "            alphaj_kij += self.alphas[j] * self.K[i][j]\n",
    "        MSE += (alphaj_kij - self.y[i])**2\n",
    "\n",
    "    return MSE/data_size\""
   ]
  },
  {
   "cell_type": "code",
   "execution_count": null,
   "metadata": {
    "collapsed": true
   },
   "outputs": [],
   "source": []
  },
  {
   "cell_type": "code",
   "execution_count": 106,
   "metadata": {
    "collapsed": true
   },
   "outputs": [],
   "source": [
    "g, s, c = plot_cross_validation_error_sigma_gama(cross_validation_pairs)\n",
    "\n",
    "# g, s = np.meshgrid(g, s)\n"
   ]
  },
  {
   "cell_type": "code",
   "execution_count": 148,
   "metadata": {
    "collapsed": false
   },
   "outputs": [
    {
     "data": {
      "image/png": "[encoded data removed]",
      "text/plain": [
       "<Figure size 432x288 with 1 Axes>"
      ]
     },
     "metadata": {},
     "output_type": "display_data"
    }
   ],
   "source": [
    "fig = plt.figure()\n",
    "ax = fig.add_subplot(111, projection='3d')\n",
    "ax.scatter3D(g, s, c)\n",
    "ax.set_xlabel('gama')\n",
    "ax.set_ylabel('sigma')\n",
    "ax.view_init(35, 75)"
   ]
  },
  {
   "cell_type": "code",
   "execution_count": null,
   "metadata": {
    "collapsed": true
   },
   "outputs": [],
   "source": []
  },
  {
   "cell_type": "code",
   "execution_count": 182,
   "metadata": {
    "collapsed": true
   },
   "outputs": [],
   "source": [
    "import matplotlib\n",
    "import numpy as np\n",
    "import matplotlib.pyplot as plt\n",
    "import scipy.io as sio\n",
    "import json\n",
    "import pandas as pd\n",
    "from sklearn.model_selection import train_test_split\n",
    "\n",
    "\n",
    "# This method loads the boston house data and splits the data to 2/3 for training and 1/3 for testing.\n",
    "def loadDataAndSplit(path=\"boston.mat\"):\n",
    "    \n",
    "    data = sio.loadmat(\"boston.mat\")\n",
    "    df = pd.DataFrame.from_records(data[\"boston\"], columns=[\"CRIM\", \"ZN\", \"INDUS\", \"CHAS\", \"NOX\", \"RM\", \"AGE\", \"DIS\", \"RAD\", \"TAX\", \"PTRATIO\", \"BLACK\", \"LSTAT\", \"MEDV\"])\n",
    "    df_train_X, df_test_X = train_test_split(df, test_size=1/3)\n",
    "    df_train_Y, df_test_Y = df_train_X['MEDV'], df_test_X['MEDV']\n",
    "    del df_train_X['MEDV']\n",
    "    return df_train_X.as_matrix(), df_train_Y.as_matrix(), df_test_X.as_matrix(), df_test_Y.as_matrix()\n",
    "\n"
   ]
  },
  {
   "cell_type": "code",
   "execution_count": 183,
   "metadata": {
    "collapsed": false
   },
   "outputs": [
    {
     "data": {
      "text/plain": [
       "(array([[3.58400e-02, 8.00000e+01, 3.37000e+00, ..., 1.61000e+01,\n",
       "         3.96900e+02, 4.67000e+00],\n",
       "        [5.36000e-02, 2.10000e+01, 5.64000e+00, ..., 1.68000e+01,\n",
       "         3.96900e+02, 5.28000e+00],\n",
       "        [1.22690e-01, 0.00000e+00, 6.91000e+00, ..., 1.79000e+01,\n",
       "         3.89390e+02, 9.55000e+00],\n",
       "        ...,\n",
       "        [3.77498e+00, 0.00000e+00, 1.81000e+01, ..., 2.02000e+01,\n",
       "         2.20100e+01, 1.71500e+01],\n",
       "        [4.62960e-01, 0.00000e+00, 6.20000e+00, ..., 1.74000e+01,\n",
       "         3.76140e+02, 5.25000e+00],\n",
       "        [5.78340e-01, 2.00000e+01, 3.97000e+00, ..., 1.30000e+01,\n",
       "         3.84540e+02, 7.44000e+00]]),\n",
       " array([23.5, 25. , 21.2,  5. , 13.4, 17.8, 21.7, 19.2, 23.2, 50. , 16.1,\n",
       "        19.3, 31.2, 19.9, 15.6, 24.3, 18.6, 50. , 20.6, 20.2, 17.1, 44. ,\n",
       "         8.3, 23.3, 23. , 21.7, 20. , 21.7, 22.2, 23.9, 10.4, 37.6, 35.4,\n",
       "        19.6, 22.7, 22.7, 14.9, 17.1, 13.5, 21.7, 23.6, 22.4, 15.2, 22.6,\n",
       "        17.8, 23.3, 36.5, 17.8, 22.3, 27.5,  7.2, 13.1, 24.4, 18.8, 10.9,\n",
       "        20.4, 23.7, 34.6, 21.4, 23.8, 17.7, 20. , 23.1, 22.4, 29. , 24.4,\n",
       "        18. , 27.9, 34.9,  8.3, 48.8, 21.2, 36. , 14.8, 13.9, 22. , 18.2,\n",
       "        28. , 17.9,  9.6, 23.7, 22. , 23.4, 18.4, 33.8, 30.1, 16.1, 30.3,\n",
       "        21.8, 29.1, 33.3, 17.5, 19.4, 18.8, 33.2, 31.6, 23.7, 24.1, 19.5,\n",
       "        27.9, 19.1, 13.6, 32.4, 21.2, 12.7, 24.8, 19.3, 23.8,  8.5, 50. ,\n",
       "        13.4, 50. , 16.8, 18.7, 19.3, 21.6, 20.1, 23.1, 28.2, 36.2, 11.9,\n",
       "        23.8, 25. , 10.2, 14. , 48.3, 14.9, 33.1, 18.9, 23.8, 13.3, 42.3,\n",
       "        16.2, 22. , 22. , 19.4, 14.1, 29.8, 21.9, 17.2, 25.2, 20.6, 32. ,\n",
       "        12.5, 22.9, 23.9, 46.7, 16.5, 11.7, 13.4, 35.2, 43.5, 21.1, 27.5,\n",
       "         9.5, 26.5, 22.2, 14.4, 18.9, 22.2,  9.7, 30.5, 25. ,  7. , 13.4,\n",
       "        24.5, 20.6, 16.4, 11.7, 15.7, 19.4, 28.7, 16.8, 23.2, 48.5, 24.4,\n",
       "        20.9, 24.1, 26.4, 31.6, 37. , 23.9, 32.7, 20.3, 39.8, 21. , 12.3,\n",
       "        22.1, 24.6,  8.7, 31.1, 14.1, 14.2, 19.4, 19.8, 21.1, 18.6, 11. ,\n",
       "        31. ,  5. , 20.6, 26.7, 21. , 27.1, 46. , 17.4, 16.2, 17.4, 18.7,\n",
       "        21.4, 29.4, 13.1, 17.8, 24.7, 20.3, 50. , 22.6, 20.8, 17.6, 22.6,\n",
       "        22.3, 20.3, 11.5, 22.6, 13.8, 34.7, 25. , 15. , 16.3, 13.2, 15.6,\n",
       "        19.5, 15.2, 23.2, 24. , 18.1, 21.8,  7.5, 50. , 33.2, 18.5, 41.3,\n",
       "        13.8, 28.6, 15.4, 18.4, 25. , 19.1, 24.3,  8.1, 15.4, 26.6, 23.7,\n",
       "        27. , 24.8, 13.6, 10.5, 20.7, 18.9, 50. , 24.6, 11.9, 13.8, 21.5,\n",
       "        22.2, 37.3, 26.2, 19.1, 15.2, 20.3, 35.1, 42.8, 20.8, 25.3, 11.3,\n",
       "        18.2, 20. ,  8.8, 32.5, 17.4, 26.4, 23.1, 21.6, 43.1, 28.1, 18.7,\n",
       "        14.6, 15. , 19.3, 10.2, 22.5, 26.6, 20.6, 14.5, 23. , 21.4, 19.6,\n",
       "        23.1, 21. , 29.9, 50. , 14.3, 22.5, 13.8, 24. , 43.8, 10.5, 18.5,\n",
       "        32. , 20.7, 13.1, 19.4, 15.6, 38.7, 50. , 33.1, 13. , 22.8, 21.7,\n",
       "        37.2,  7.4, 12.7, 28.7, 16.7, 19.9, 22.9, 10.4, 14.5, 16. , 15. ,\n",
       "        24.7,  8.8,  7. , 44.8, 19. , 31.7, 50. ]),\n",
       " array([[1.98020e-01, 0.00000e+00, 1.05900e+01, ..., 3.93630e+02,\n",
       "         9.47000e+00, 2.50000e+01],\n",
       "        [7.40389e+00, 0.00000e+00, 1.81000e+01, ..., 3.14640e+02,\n",
       "         2.64000e+01, 1.72000e+01],\n",
       "        [4.87141e+00, 0.00000e+00, 1.81000e+01, ..., 3.96210e+02,\n",
       "         1.86800e+01, 1.67000e+01],\n",
       "        ...,\n",
       "        [1.12658e+00, 0.00000e+00, 1.95800e+01, ..., 3.43280e+02,\n",
       "         1.21200e+01, 1.53000e+01],\n",
       "        [8.98296e+00, 0.00000e+00, 1.81000e+01, ..., 3.77730e+02,\n",
       "         1.76000e+01, 1.78000e+01],\n",
       "        [7.61620e-01, 2.00000e+01, 3.97000e+00, ..., 3.92400e+02,\n",
       "         1.04500e+01, 2.28000e+01]]),\n",
       " array([25. , 17.2, 16.7, 28.4, 23. , 36.2, 20.5, 23.9, 30.1, 19.2, 20.6,\n",
       "        22.9,  8.4, 22. , 19.7, 11.8, 19.5, 15.6, 27.1, 19.9, 30.7, 18.3,\n",
       "        21.7, 50. , 16.5, 24.7, 31.5, 29.8, 12.8, 19.8, 20.1, 24.3, 19.5,\n",
       "        20.1, 18.9, 22.6, 50. , 16.6, 33. , 13.5, 12.1, 14.1, 22.9, 50. ,\n",
       "        32.2, 21.2, 13.3, 19.9, 24.4, 30.1, 29. , 25.1, 14.6, 26.6, 12. ,\n",
       "        37.9, 12.7, 50. , 22.8, 34.9, 22. , 23.1, 36.4, 24.5, 18.5, 45.4,\n",
       "        19.6, 14.4, 23.3, 28.7, 24.2, 50. , 35.4,  6.3, 23.6, 23.1, 13.8,\n",
       "        21.4, 23.3, 24.8, 17. , 28.5, 19.6, 33.4, 17.1, 20.4, 34.9, 23.4,\n",
       "        15.1, 13.9, 14.5, 27.5, 10.8, 21.9, 20.8, 16.6, 10.9, 29.6, 20.4,\n",
       "        20.5, 20.5, 31.5, 12.6, 29.6, 13.1, 27.5, 20.1, 18.2, 22. , 17.5,\n",
       "        21.2, 13.3, 20. , 23.1, 19.1, 25. , 17.2, 23.9, 23.2, 18.5, 29.1,\n",
       "        17.5, 25. , 14.3, 24.5, 20. ,  8.4, 19.6, 30.8, 19. , 22.5, 19.3,\n",
       "        24.8, 20.9,  5.6, 24.1, 33.4, 32.9, 19.7, 22.2, 20.1, 20.2, 22.8,\n",
       "        21.9, 17.3, 20.4, 36.1,  7.2,  7.2,  8.5, 50. , 10.2, 21.4, 21.5,\n",
       "        16.1, 23. , 11.8, 15.6, 41.7, 18.4, 14.9, 19.4, 18.3, 21.7, 19.8,\n",
       "        28.4, 15.3, 17.8, 22.8]))"
      ]
     },
     "execution_count": 183,
     "metadata": {},
     "output_type": "execute_result"
    }
   ],
   "source": [
    "loadDataAndSplit()"
   ]
  },
  {
   "cell_type": "code",
   "execution_count": null,
   "metadata": {
    "collapsed": true
   },
   "outputs": [],
   "source": []
  },
  {
   "cell_type": "code",
   "execution_count": 3,
   "metadata": {
    "collapsed": true
   },
   "outputs": [],
   "source": [
    "from sklearn.model_selection import KFold\n",
    "\n",
    "\n",
    "def applyKFold(X, Y):\n",
    "    kf = KFold(n_splits=5)\n",
    "    # Holds the 5 fold cross validation splits\n",
    "    training_folds = []\n",
    "    for train_index, _ in kf.split(X):\n",
    "        fold_X = []\n",
    "        fold_Y = []\n",
    "        for index in train_index:\n",
    "            fold_X.append(X[index])\n",
    "            fold_Y.append([Y[index]])\n",
    "\n",
    "#         print(\"this is X: {}\".format(fold_X))\n",
    "#         print(\"this is Y: {}\".format(fold_Y))\n",
    "        training_folds.append((fold_X, fold_Y))\n",
    "    return training_folds\n",
    "\n",
    "\n"
   ]
  },
  {
   "cell_type": "code",
   "execution_count": null,
   "metadata": {
    "collapsed": true
   },
   "outputs": [],
   "source": []
  },
  {
   "cell_type": "code",
   "execution_count": null,
   "metadata": {
    "collapsed": true
   },
   "outputs": [],
   "source": []
  }
 ],
 "metadata": {
  "kernelspec": {
   "display_name": "Python 3",
   "language": "python",
   "name": "python3"
  },
  "language_info": {
   "codemirror_mode": {
    "name": "ipython",
    "version": 3
   },
   "file_extension": ".py",
   "mimetype": "text/x-python",
   "name": "python",
   "nbconvert_exporter": "python",
   "pygments_lexer": "ipython3",
   "version": "3.5.1"
  }
 },
 "nbformat": 4,
 "nbformat_minor": 2
}
