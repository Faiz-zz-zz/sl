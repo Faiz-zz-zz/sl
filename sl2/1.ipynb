{
 "cells": [
  {
   "cell_type": "code",
   "execution_count": 1,
   "metadata": {
    "collapsed": false
   },
   "outputs": [],
   "source": [
    "%matplotlib inline\n",
    "\n",
    "import matplotlib\n",
    "import numpy as np\n",
    "import matplotlib.pyplot as plt\n",
    "import scipy.io as sio\n",
    "import json"
   ]
  },
  {
   "cell_type": "code",
   "execution_count": 2,
   "metadata": {
    "collapsed": false
   },
   "outputs": [],
   "source": [
    "data = list(map(lambda k: list(map(float, k.split())), open(\"zipcombo.dat\").read().split(\"\\n\")[:-1]))"
   ]
  },
  {
   "cell_type": "code",
   "execution_count": 3,
   "metadata": {
    "collapsed": false
   },
   "outputs": [],
   "source": [
    "def plot_digit(data):\n",
    "    label, *pixels = data\n",
    "    pixels = np.array(pixels, dtype='uint8')\n",
    "    pixels = pixels.reshape((16, 16))\n",
    "    plt.title('Label is {label}'.format(label=label))\n",
    "    plt.imshow(pixels, cmap='gray')\n",
    "    plt.show()"
   ]
  },
  {
   "cell_type": "code",
   "execution_count": 4,
   "metadata": {
    "collapsed": false
   },
   "outputs": [],
   "source": [
    "kernel_dot = lambda a, b, r: (a.dot(b))**r"
   ]
  },
  {
   "cell_type": "code",
   "execution_count": 5,
   "metadata": {
    "collapsed": true
   },
   "outputs": [],
   "source": [
    "def get_classifier(data_len, num_classes):\n",
    "    \"\"\"\n",
    "    Initialise a classifier of shape [data_len, num_classes]\n",
    "    \"\"\"\n",
    "    return [[0] * data_len for _ in range(num_classes)]"
   ]
  },
  {
   "cell_type": "code",
   "execution_count": 6,
   "metadata": {
    "collapsed": false
   },
   "outputs": [],
   "source": [
    "def predict(class_vector, kernel_vector):\n",
    "    \"\"\"\n",
    "    Use the given kernel to create a prediction vector.\n",
    "    \"\"\"\n",
    "    return sum([classifier[i] * kernel(datapoint[1:], pattern, d) for i, datapoint in enumerate(data)])"
   ]
  },
  {
   "cell_type": "code",
   "execution_count": 15,
   "metadata": {
    "collapsed": true
   },
   "outputs": [],
   "source": [
    "sign = lambda k: -1 if k <= 0 else 1\n",
    "def train(data, classifier, dot_matrix):\n",
    "    mistakes = 0\n",
    "    for i, datapoint in enumerate(data):\n",
    "        label, *pattern = datapoint\n",
    "        pred_vector = [sum(classifier[j]*dot_matrix[i]) for j in range(10)]\n",
    "        maxima = -float('inf')\n",
    "        max_i = 0\n",
    "        for j in range(10):\n",
    "            y = 1 if label == j else -1\n",
    "            if y * pred_vector[j] <= 0:\n",
    "                classifier[j][i] -= sign(pred_vector[j])\n",
    "            if pred_vector[j] > maxima:\n",
    "                maxima = pred_vector[j]\n",
    "                max_i = j\n",
    "        if max_i != label:\n",
    "            mistakes += 1\n",
    "    return classifier, (mistakes / len(data)) * 100            "
   ]
  },
  {
   "cell_type": "code",
   "execution_count": 27,
   "metadata": {
    "collapsed": true
   },
   "outputs": [],
   "source": [
    "def test(data, classifier, dot_matrix, l):\n",
    "    mistakes = 0\n",
    "    for i, datapoint in enumerate(data):\n",
    "        label, *pattern = datapoint\n",
    "        pred_vector = [sum(classifier[j] * dot_matrix[l + i]) for j in range(10)]\n",
    "        maxima, max_i = -float('inf'), 0\n",
    "        for j in range(10):\n",
    "            if pred_vector[j] > maxima:\n",
    "                maxima, max_i = pred_vector[j], j\n",
    "        if max_i != label:\n",
    "            mistakes += 1\n",
    "    return (mistakes / len(data)) * 100"
   ]
  },
  {
   "cell_type": "code",
   "execution_count": 40,
   "metadata": {
    "collapsed": false
   },
   "outputs": [],
   "source": [
    "from sklearn.model_selection import train_test_split\n",
    "def prep_training(train_set, test_set, d, epoch):\n",
    "    np_data = np.asarray(train_set)\n",
    "    classifier = get_classifier(len(train_set), 10)\n",
    "    # labels\n",
    "    labels = np_data[:, :1]\n",
    "    np_data = np_data[:, 1:] # delete the labels\n",
    "\n",
    "    dot_matrix = np_data @ np_data.T\n",
    "    dot_matrix = dot_matrix**d\n",
    "    \n",
    "    for i in range(epoch):\n",
    "        classifier, mistakes = train(train_set, classifier, dot_matrix)\n",
    "        print(\"epoch {}: Training error: {:0.2f}%\".format(i, mistakes))\n",
    "    \n",
    "    # we need dot product for the test set. So append the test set with train set, \n",
    "    # apply the same matrix trick. Then index it by, i + len(train_set)\n",
    "    test_classifier = np.append(classifier, np.array([[0] * len(test_set) for _ in range(10)]), axis=1)\n",
    "    train_len = len(train_set)\n",
    "    train_set.extend(test_set)\n",
    "    np_test_data = np.asarray(train_set)\n",
    "    \n",
    "    np_test_data = np_test_data[:, 1:] # delete the labels\n",
    "    dot_matrix = np_test_data @ np_test_data.T\n",
    "    dot_matrix = dot_matrix**d\n",
    "\n",
    "    mistakes = test(test_set, test_classifier, dot_matrix, train_len)\n",
    "    print(\"Test error: {:0.2f}\".format(mistakes))"
   ]
  },
  {
   "cell_type": "code",
   "execution_count": 42,
   "metadata": {
    "collapsed": false
   },
   "outputs": [
    {
     "name": "stdout",
     "output_type": "stream",
     "text": [
      "580 7438\n",
      "epoch 0: Training error: 7.797795106211347%\n",
      "128 7438\n",
      "epoch 1: Training error: 1.720892713094918%\n",
      "67 7438\n",
      "epoch 2: Training error: 0.9007797795106212%\n",
      "28 7438\n",
      "epoch 3: Training error: 0.3764452809895133%\n",
      "21 7438\n",
      "epoch 4: Training error: 0.282333960742135%\n",
      "[[-1. -1. -1. ... -1. -1. -1.]\n",
      " [-1. -1. -1. ... -1. -1. -1.]\n",
      " [-1. -1. -1. ... -1. -1. -1.]\n",
      " ...\n",
      " [-1. -1. -1. ... -1. -1. -1.]\n",
      " [-1. -1. -1. ... -1. -1. -1.]\n",
      " [-1. -1. -1. ... -1. -1. -1.]]\n",
      "55 1860\n",
      "Test error: 2.956989247311828\n"
     ]
    }
   ],
   "source": [
    "train_set, test_set = train_test_split(data, test_size=0.2)\n",
    "prep_training(train_set, test_set, 3, 5)"
   ]
  },
  {
   "cell_type": "code",
   "execution_count": null,
   "metadata": {
    "collapsed": false
   },
   "outputs": [],
   "source": []
  },
  {
   "cell_type": "code",
   "execution_count": null,
   "metadata": {
    "collapsed": true
   },
   "outputs": [],
   "source": []
  }
 ],
 "metadata": {
  "kernelspec": {
   "display_name": "Python 3",
   "language": "python",
   "name": "python3"
  },
  "language_info": {
   "codemirror_mode": {
    "name": "ipython",
    "version": 3
   },
   "file_extension": ".py",
   "mimetype": "text/x-python",
   "name": "python",
   "nbconvert_exporter": "python",
   "pygments_lexer": "ipython3",
   "version": "3.5.1"
  }
 },
 "nbformat": 4,
 "nbformat_minor": 0
}
